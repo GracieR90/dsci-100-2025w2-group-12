{
 "cells": [
  {
   "cell_type": "markdown",
   "id": "c48f27c6-96ea-4f81-af71-d786ded30e4e",
   "metadata": {},
   "source": [
    "This is draft work on the Methods and Results of our Proposal"
   ]
  },
  {
   "cell_type": "markdown",
   "id": "9b3cf7d2-a65d-4481-97c6-e1cd971ad689",
   "metadata": {},
   "source": [
    "**METHODS**"
   ]
  },
  {
   "cell_type": "markdown",
   "id": "669283cf-c585-4048-8f61-8985b2f5c88b",
   "metadata": {},
   "source": [
    "To answer the above broad and specific question, KNN regression was determined to be the best approach to assess the relationship between played hours to the age of the player. First, load the appropriate library's as below, to be used for accurate visualization and to utilize the correct code for wrangling: "
   ]
  },
  {
   "cell_type": "code",
   "execution_count": null,
   "id": "d69d8a41-b99e-40e3-b472-f203b7291ea2",
   "metadata": {},
   "outputs": [],
   "source": [
    "library(tidyverse)\n",
    "library(tidymodels)\n",
    "library(ggplot2)\n",
    "library(dplyr)\n",
    "library(RColorBrewer)\n"
   ]
  },
  {
   "cell_type": "markdown",
   "id": "f49ca1f1-241c-421e-845e-166a026e7d19",
   "metadata": {},
   "source": [
    "Once there, we began to wrangle the data by first making gender into a vector to be factored, and then mutate the data such that both experience and gender can be considered as a factor."
   ]
  },
  {
   "cell_type": "code",
   "execution_count": 2,
   "id": "de984f96-b731-44aa-9bd9-cc458ba9da11",
   "metadata": {},
   "outputs": [
    {
     "name": "stderr",
     "output_type": "stream",
     "text": [
      "\u001b[1mRows: \u001b[22m\u001b[34m196\u001b[39m \u001b[1mColumns: \u001b[22m\u001b[34m7\u001b[39m\n",
      "\u001b[36m──\u001b[39m \u001b[1mColumn specification\u001b[22m \u001b[36m────────────────────────────────────────────────────────\u001b[39m\n",
      "\u001b[1mDelimiter:\u001b[22m \",\"\n",
      "\u001b[31mchr\u001b[39m (4): experience, hashedEmail, name, gender\n",
      "\u001b[32mdbl\u001b[39m (2): played_hours, Age\n",
      "\u001b[33mlgl\u001b[39m (1): subscribe\n",
      "\n",
      "\u001b[36mℹ\u001b[39m Use `spec()` to retrieve the full column specification for this data.\n",
      "\u001b[36mℹ\u001b[39m Specify the column types or set `show_col_types = FALSE` to quiet this message.\n"
     ]
    }
   ],
   "source": [
    "players_data <- read_csv(\"https://raw.githubusercontent.com/GracieR90/dsci-100-2025w2-group-12/refs/heads/main/players.csv\")\n",
    "\n",
    "gender <- c(\"Male\", \"Female\", \"Non-binary\", \"Other\", \"Prefer not to say\", \"Two-Spirited\")\n",
    "\n",
    "players_mutate <- players_data |>\n",
    "    mutate(\n",
    "        experience = as.factor(experience),\n",
    "        gender = as.factor(gender))"
   ]
  },
  {
   "cell_type": "code",
   "execution_count": null,
   "id": "85fba1df-6c9b-4140-80ba-a1340965871b",
   "metadata": {},
   "outputs": [],
   "source": []
  }
 ],
 "metadata": {
  "kernelspec": {
   "display_name": "R",
   "language": "R",
   "name": "ir"
  },
  "language_info": {
   "codemirror_mode": "r",
   "file_extension": ".r",
   "mimetype": "text/x-r-source",
   "name": "R",
   "pygments_lexer": "r",
   "version": "4.3.3"
  }
 },
 "nbformat": 4,
 "nbformat_minor": 5
}
